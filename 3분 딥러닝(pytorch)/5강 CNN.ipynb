{
 "cells": [
  {
   "cell_type": "code",
   "execution_count": 1,
   "metadata": {},
   "outputs": [],
   "source": [
    "import torch\n",
    "import torch.nn as nn\n",
    "import torch.optim as optim\n",
    "import torch.nn.functional as F\n",
    "from torchvision import transforms, datasets"
   ]
  },
  {
   "cell_type": "code",
   "execution_count": 2,
   "metadata": {},
   "outputs": [],
   "source": [
    "USE_CUDA = torch.cuda.is_available()\n",
    "DEVICE = torch.device('cuda' if USE_CUDA else 'cpu')"
   ]
  },
  {
   "cell_type": "code",
   "execution_count": 3,
   "metadata": {},
   "outputs": [],
   "source": [
    "# hyperparameters\n",
    "EPOCHS = 40\n",
    "BATCH_SIZE = 64"
   ]
  },
  {
   "cell_type": "markdown",
   "metadata": {},
   "source": [
    "### 학습용과 테스트용 데이터셋 불러오기"
   ]
  },
  {
   "cell_type": "code",
   "execution_count": 4,
   "metadata": {},
   "outputs": [
    {
     "name": "stdout",
     "output_type": "stream",
     "text": [
      "60000\n"
     ]
    }
   ],
   "source": [
    "train_loader = torch.utils.data.DataLoader(\n",
    "    datasets.FashionMNIST('C:/Users/gun84/data/FashionMNIST',\n",
    "                           train = True,\n",
    "                           transform = transforms.Compose([\n",
    "                               transforms.ToTensor(),\n",
    "                               transforms.Normalize((0.1307,), (0.3081,))\n",
    "                           ])),\n",
    "    batch_size = BATCH_SIZE, shuffle = True)\n",
    "\n",
    "test_loader = torch.utils.data.DataLoader(\n",
    "    datasets.FashionMNIST('C:/Users/gun84/data/FashionMNIST',\n",
    "                         train = False,\n",
    "                         transform = transforms.Compose([\n",
    "                             transforms.ToTensor(),\n",
    "                             transforms.Normalize((0.1307,), (0.3081,))\n",
    "                         ])),\n",
    "    batch_size = BATCH_SIZE, shuffle = True)\n",
    "\n",
    "print(len(train_loader.dataset))"
   ]
  },
  {
   "cell_type": "markdown",
   "metadata": {},
   "source": [
    "#### CNN 모델 "
   ]
  },
  {
   "cell_type": "code",
   "execution_count": 5,
   "metadata": {},
   "outputs": [],
   "source": [
    "class CNN(nn.Module):\n",
    "    def __init__(self):\n",
    "        super(CNN, self).__init__()\n",
    "        self.conv1 = nn.Conv2d(1, 10,  5)\n",
    "        self.conv2 = nn.Conv2d(10, 20, 5)\n",
    "        self.drop = nn.Dropout2d()\n",
    "        \n",
    "        self.fc1 = nn.Linear(320, 50)\n",
    "        self.fc2 = nn.Linear(50, 10)\n",
    "        \n",
    "    def forward(self, x):\n",
    "        x = F.relu(F.max_pool2d(self.conv1(x),2))\n",
    "        x = F.relu(F.max_pool2d(self.conv2(x),2))\n",
    "        x = x.view(-1, 320)\n",
    "        \n",
    "        x = F.relu(self.fc1(x))\n",
    "        x = self.drop(x)\n",
    "        x = self.fc2(x)\n",
    "        return x"
   ]
  },
  {
   "cell_type": "code",
   "execution_count": 6,
   "metadata": {},
   "outputs": [],
   "source": [
    "model = CNN().to(DEVICE)\n",
    "optimizer = optim.SGD(model.parameters(), lr = 0.01, momentum = 0.5)"
   ]
  },
  {
   "cell_type": "markdown",
   "metadata": {},
   "source": [
    "### train"
   ]
  },
  {
   "cell_type": "code",
   "execution_count": 7,
   "metadata": {},
   "outputs": [],
   "source": [
    "def train(model, train_loader, optimizer, epoch):\n",
    "    model.train()\n",
    "    for batch_idx, (data, target) in enumerate(train_loader):\n",
    "        data, target = data.to(DEVICE), target.to(DEVICE)\n",
    "        optimizer.zero_grad()\n",
    "        output = model(data)\n",
    "        loss = F.cross_entropy(output, target)\n",
    "        loss.backward()\n",
    "        optimizer.step()\n",
    "        \n",
    "        if batch_idx % 200 == 0: \n",
    "            print('Train Epoch: {} [{}/{} ({:.0f}%)]\\tLoss:{:.6f}'.\n",
    "                 format(epoch, batch_idx * len(data),\n",
    "                       len(train_loader.dataset),\n",
    "                       100 * batch_idx / len(train_loader),\n",
    "                       loss.item()))"
   ]
  },
  {
   "cell_type": "markdown",
   "metadata": {},
   "source": [
    "### test"
   ]
  },
  {
   "cell_type": "code",
   "execution_count": 8,
   "metadata": {},
   "outputs": [],
   "source": [
    "def evaluate(model, test_loader):\n",
    "    model.eval()\n",
    "    test_loss = 0\n",
    "    correct = 0\n",
    "    with torch.no_grad():\n",
    "        for data, target in test_loader:\n",
    "            data, target = data.to(DEVICE), target.to(DEVICE)\n",
    "            output = model(data)\n",
    "            \n",
    "            # 배치 오차를 합산\n",
    "            test_loss += F.cross_entropy(output, target, reduction = 'sum').item()\n",
    "            \n",
    "            # 가장 높은 값을 가진 인텍스가 예측값이다\n",
    "            pred = output.max(1, keepdim = True)[1]\n",
    "            correct += pred.eq(target.view_as(pred)).sum().item()\n",
    "    test_loss /= len(test_loader.dataset)\n",
    "    test_accuracy = 100. * correct / len(test_loader.dataset)\n",
    "    return test_loss, test_accuracy"
   ]
  },
  {
   "cell_type": "code",
   "execution_count": 10,
   "metadata": {},
   "outputs": [
    {
     "name": "stdout",
     "output_type": "stream",
     "text": [
      "Train Epoch: 1 [0/60000 (0%)]\tLoss:2.292178\n",
      "Train Epoch: 1 [12800/60000 (21%)]\tLoss:1.074987\n",
      "Train Epoch: 1 [25600/60000 (43%)]\tLoss:1.225196\n",
      "Train Epoch: 1 [38400/60000 (64%)]\tLoss:0.688239\n",
      "Train Epoch: 1 [51200/60000 (85%)]\tLoss:0.773013\n",
      "[1] Test Loss: 0.6660, Accuracy: 73.78%\n",
      "Train Epoch: 2 [0/60000 (0%)]\tLoss:0.771110\n",
      "Train Epoch: 2 [12800/60000 (21%)]\tLoss:0.602140\n",
      "Train Epoch: 2 [25600/60000 (43%)]\tLoss:0.808639\n",
      "Train Epoch: 2 [38400/60000 (64%)]\tLoss:0.809213\n",
      "Train Epoch: 2 [51200/60000 (85%)]\tLoss:0.697859\n",
      "[2] Test Loss: 0.5469, Accuracy: 78.78%\n",
      "Train Epoch: 3 [0/60000 (0%)]\tLoss:0.623036\n",
      "Train Epoch: 3 [12800/60000 (21%)]\tLoss:0.638745\n",
      "Train Epoch: 3 [25600/60000 (43%)]\tLoss:0.609624\n",
      "Train Epoch: 3 [38400/60000 (64%)]\tLoss:0.454645\n",
      "Train Epoch: 3 [51200/60000 (85%)]\tLoss:0.635118\n",
      "[3] Test Loss: 0.5014, Accuracy: 80.38%\n",
      "Train Epoch: 4 [0/60000 (0%)]\tLoss:0.675837\n",
      "Train Epoch: 4 [12800/60000 (21%)]\tLoss:0.641233\n",
      "Train Epoch: 4 [25600/60000 (43%)]\tLoss:0.638504\n",
      "Train Epoch: 4 [38400/60000 (64%)]\tLoss:0.579376\n",
      "Train Epoch: 4 [51200/60000 (85%)]\tLoss:0.568461\n",
      "[4] Test Loss: 0.4637, Accuracy: 83.19%\n",
      "Train Epoch: 5 [0/60000 (0%)]\tLoss:0.503329\n",
      "Train Epoch: 5 [12800/60000 (21%)]\tLoss:0.567910\n",
      "Train Epoch: 5 [25600/60000 (43%)]\tLoss:0.441909\n",
      "Train Epoch: 5 [38400/60000 (64%)]\tLoss:0.759095\n",
      "Train Epoch: 5 [51200/60000 (85%)]\tLoss:0.693272\n",
      "[5] Test Loss: 0.4282, Accuracy: 84.13%\n",
      "Train Epoch: 6 [0/60000 (0%)]\tLoss:0.727333\n",
      "Train Epoch: 6 [12800/60000 (21%)]\tLoss:0.436763\n",
      "Train Epoch: 6 [25600/60000 (43%)]\tLoss:0.507470\n",
      "Train Epoch: 6 [38400/60000 (64%)]\tLoss:0.490370\n",
      "Train Epoch: 6 [51200/60000 (85%)]\tLoss:0.487210\n",
      "[6] Test Loss: 0.4178, Accuracy: 84.87%\n",
      "Train Epoch: 7 [0/60000 (0%)]\tLoss:0.541568\n",
      "Train Epoch: 7 [12800/60000 (21%)]\tLoss:0.594470\n",
      "Train Epoch: 7 [25600/60000 (43%)]\tLoss:0.578242\n",
      "Train Epoch: 7 [38400/60000 (64%)]\tLoss:0.418663\n",
      "Train Epoch: 7 [51200/60000 (85%)]\tLoss:0.471226\n",
      "[7] Test Loss: 0.3870, Accuracy: 86.29%\n",
      "Train Epoch: 8 [0/60000 (0%)]\tLoss:0.571371\n",
      "Train Epoch: 8 [12800/60000 (21%)]\tLoss:0.399967\n",
      "Train Epoch: 8 [25600/60000 (43%)]\tLoss:0.365025\n",
      "Train Epoch: 8 [38400/60000 (64%)]\tLoss:0.481847\n",
      "Train Epoch: 8 [51200/60000 (85%)]\tLoss:0.433574\n",
      "[8] Test Loss: 0.3722, Accuracy: 86.62%\n",
      "Train Epoch: 9 [0/60000 (0%)]\tLoss:0.549433\n",
      "Train Epoch: 9 [12800/60000 (21%)]\tLoss:0.543436\n",
      "Train Epoch: 9 [25600/60000 (43%)]\tLoss:0.596823\n",
      "Train Epoch: 9 [38400/60000 (64%)]\tLoss:0.586136\n",
      "Train Epoch: 9 [51200/60000 (85%)]\tLoss:0.572703\n",
      "[9] Test Loss: 0.3660, Accuracy: 86.32%\n",
      "Train Epoch: 10 [0/60000 (0%)]\tLoss:0.416085\n",
      "Train Epoch: 10 [12800/60000 (21%)]\tLoss:0.280093\n",
      "Train Epoch: 10 [25600/60000 (43%)]\tLoss:0.484950\n",
      "Train Epoch: 10 [38400/60000 (64%)]\tLoss:0.428742\n",
      "Train Epoch: 10 [51200/60000 (85%)]\tLoss:0.445390\n",
      "[10] Test Loss: 0.3531, Accuracy: 86.99%\n",
      "Train Epoch: 11 [0/60000 (0%)]\tLoss:0.366956\n",
      "Train Epoch: 11 [12800/60000 (21%)]\tLoss:0.608170\n",
      "Train Epoch: 11 [25600/60000 (43%)]\tLoss:0.510798\n",
      "Train Epoch: 11 [38400/60000 (64%)]\tLoss:0.281929\n",
      "Train Epoch: 11 [51200/60000 (85%)]\tLoss:0.415126\n",
      "[11] Test Loss: 0.3483, Accuracy: 87.31%\n",
      "Train Epoch: 12 [0/60000 (0%)]\tLoss:0.512628\n",
      "Train Epoch: 12 [12800/60000 (21%)]\tLoss:0.435646\n",
      "Train Epoch: 12 [25600/60000 (43%)]\tLoss:0.332216\n",
      "Train Epoch: 12 [38400/60000 (64%)]\tLoss:0.281290\n",
      "Train Epoch: 12 [51200/60000 (85%)]\tLoss:0.272524\n",
      "[12] Test Loss: 0.3413, Accuracy: 87.17%\n",
      "Train Epoch: 13 [0/60000 (0%)]\tLoss:0.250032\n",
      "Train Epoch: 13 [12800/60000 (21%)]\tLoss:0.369847\n",
      "Train Epoch: 13 [25600/60000 (43%)]\tLoss:0.263698\n",
      "Train Epoch: 13 [38400/60000 (64%)]\tLoss:0.473503\n",
      "Train Epoch: 13 [51200/60000 (85%)]\tLoss:0.568721\n",
      "[13] Test Loss: 0.3399, Accuracy: 87.29%\n",
      "Train Epoch: 14 [0/60000 (0%)]\tLoss:0.217564\n",
      "Train Epoch: 14 [12800/60000 (21%)]\tLoss:0.392120\n",
      "Train Epoch: 14 [25600/60000 (43%)]\tLoss:0.611092\n",
      "Train Epoch: 14 [38400/60000 (64%)]\tLoss:0.369739\n",
      "Train Epoch: 14 [51200/60000 (85%)]\tLoss:0.427945\n",
      "[14] Test Loss: 0.3283, Accuracy: 87.93%\n",
      "Train Epoch: 15 [0/60000 (0%)]\tLoss:0.320958\n",
      "Train Epoch: 15 [12800/60000 (21%)]\tLoss:0.429683\n",
      "Train Epoch: 15 [25600/60000 (43%)]\tLoss:0.428344\n",
      "Train Epoch: 15 [38400/60000 (64%)]\tLoss:0.560667\n",
      "Train Epoch: 15 [51200/60000 (85%)]\tLoss:0.488829\n",
      "[15] Test Loss: 0.3260, Accuracy: 87.79%\n",
      "Train Epoch: 16 [0/60000 (0%)]\tLoss:0.553702\n",
      "Train Epoch: 16 [12800/60000 (21%)]\tLoss:0.421374\n",
      "Train Epoch: 16 [25600/60000 (43%)]\tLoss:0.444229\n",
      "Train Epoch: 16 [38400/60000 (64%)]\tLoss:0.362801\n",
      "Train Epoch: 16 [51200/60000 (85%)]\tLoss:0.260293\n",
      "[16] Test Loss: 0.3213, Accuracy: 88.36%\n",
      "Train Epoch: 17 [0/60000 (0%)]\tLoss:0.462318\n",
      "Train Epoch: 17 [12800/60000 (21%)]\tLoss:0.303334\n",
      "Train Epoch: 17 [25600/60000 (43%)]\tLoss:0.221684\n",
      "Train Epoch: 17 [38400/60000 (64%)]\tLoss:0.210518\n",
      "Train Epoch: 17 [51200/60000 (85%)]\tLoss:0.392364\n",
      "[17] Test Loss: 0.3261, Accuracy: 88.17%\n",
      "Train Epoch: 18 [0/60000 (0%)]\tLoss:0.414707\n",
      "Train Epoch: 18 [12800/60000 (21%)]\tLoss:0.346044\n",
      "Train Epoch: 18 [25600/60000 (43%)]\tLoss:0.594397\n",
      "Train Epoch: 18 [38400/60000 (64%)]\tLoss:0.220340\n",
      "Train Epoch: 18 [51200/60000 (85%)]\tLoss:0.462181\n",
      "[18] Test Loss: 0.3144, Accuracy: 88.34%\n",
      "Train Epoch: 19 [0/60000 (0%)]\tLoss:0.457496\n",
      "Train Epoch: 19 [12800/60000 (21%)]\tLoss:0.487896\n",
      "Train Epoch: 19 [25600/60000 (43%)]\tLoss:0.424254\n",
      "Train Epoch: 19 [38400/60000 (64%)]\tLoss:0.411767\n",
      "Train Epoch: 19 [51200/60000 (85%)]\tLoss:0.370221\n",
      "[19] Test Loss: 0.3150, Accuracy: 88.52%\n",
      "Train Epoch: 20 [0/60000 (0%)]\tLoss:0.389613\n",
      "Train Epoch: 20 [12800/60000 (21%)]\tLoss:0.655128\n",
      "Train Epoch: 20 [25600/60000 (43%)]\tLoss:0.473736\n",
      "Train Epoch: 20 [38400/60000 (64%)]\tLoss:0.364151\n",
      "Train Epoch: 20 [51200/60000 (85%)]\tLoss:0.311209\n",
      "[20] Test Loss: 0.3115, Accuracy: 88.49%\n",
      "Train Epoch: 21 [0/60000 (0%)]\tLoss:0.510194\n",
      "Train Epoch: 21 [12800/60000 (21%)]\tLoss:0.268791\n",
      "Train Epoch: 21 [25600/60000 (43%)]\tLoss:0.339281\n",
      "Train Epoch: 21 [38400/60000 (64%)]\tLoss:0.189071\n",
      "Train Epoch: 21 [51200/60000 (85%)]\tLoss:0.544912\n",
      "[21] Test Loss: 0.3101, Accuracy: 88.59%\n",
      "Train Epoch: 22 [0/60000 (0%)]\tLoss:0.482357\n",
      "Train Epoch: 22 [12800/60000 (21%)]\tLoss:0.498769\n",
      "Train Epoch: 22 [25600/60000 (43%)]\tLoss:0.380448\n",
      "Train Epoch: 22 [38400/60000 (64%)]\tLoss:0.352955\n",
      "Train Epoch: 22 [51200/60000 (85%)]\tLoss:0.320703\n",
      "[22] Test Loss: 0.3091, Accuracy: 88.76%\n",
      "Train Epoch: 23 [0/60000 (0%)]\tLoss:0.263803\n",
      "Train Epoch: 23 [12800/60000 (21%)]\tLoss:0.208032\n",
      "Train Epoch: 23 [25600/60000 (43%)]\tLoss:0.277294\n",
      "Train Epoch: 23 [38400/60000 (64%)]\tLoss:0.410985\n",
      "Train Epoch: 23 [51200/60000 (85%)]\tLoss:0.355688\n",
      "[23] Test Loss: 0.3105, Accuracy: 88.63%\n",
      "Train Epoch: 24 [0/60000 (0%)]\tLoss:0.282159\n",
      "Train Epoch: 24 [12800/60000 (21%)]\tLoss:0.357780\n",
      "Train Epoch: 24 [25600/60000 (43%)]\tLoss:0.347067\n",
      "Train Epoch: 24 [38400/60000 (64%)]\tLoss:0.226938\n",
      "Train Epoch: 24 [51200/60000 (85%)]\tLoss:0.383250\n",
      "[24] Test Loss: 0.3156, Accuracy: 88.34%\n",
      "Train Epoch: 25 [0/60000 (0%)]\tLoss:0.239349\n",
      "Train Epoch: 25 [12800/60000 (21%)]\tLoss:0.386426\n",
      "Train Epoch: 25 [25600/60000 (43%)]\tLoss:0.262331\n",
      "Train Epoch: 25 [38400/60000 (64%)]\tLoss:0.338543\n",
      "Train Epoch: 25 [51200/60000 (85%)]\tLoss:0.232870\n",
      "[25] Test Loss: 0.3037, Accuracy: 88.99%\n",
      "Train Epoch: 26 [0/60000 (0%)]\tLoss:0.267207\n",
      "Train Epoch: 26 [12800/60000 (21%)]\tLoss:0.239127\n",
      "Train Epoch: 26 [25600/60000 (43%)]\tLoss:0.407828\n",
      "Train Epoch: 26 [38400/60000 (64%)]\tLoss:0.223771\n",
      "Train Epoch: 26 [51200/60000 (85%)]\tLoss:0.234171\n",
      "[26] Test Loss: 0.2950, Accuracy: 89.39%\n",
      "Train Epoch: 27 [0/60000 (0%)]\tLoss:0.233303\n",
      "Train Epoch: 27 [12800/60000 (21%)]\tLoss:0.330228\n",
      "Train Epoch: 27 [25600/60000 (43%)]\tLoss:0.252713\n",
      "Train Epoch: 27 [38400/60000 (64%)]\tLoss:0.358968\n",
      "Train Epoch: 27 [51200/60000 (85%)]\tLoss:0.289906\n",
      "[27] Test Loss: 0.2983, Accuracy: 89.12%\n",
      "Train Epoch: 28 [0/60000 (0%)]\tLoss:0.312032\n",
      "Train Epoch: 28 [12800/60000 (21%)]\tLoss:0.456412\n",
      "Train Epoch: 28 [25600/60000 (43%)]\tLoss:0.357588\n",
      "Train Epoch: 28 [38400/60000 (64%)]\tLoss:0.355275\n",
      "Train Epoch: 28 [51200/60000 (85%)]\tLoss:0.188115\n",
      "[28] Test Loss: 0.2953, Accuracy: 89.29%\n",
      "Train Epoch: 29 [0/60000 (0%)]\tLoss:0.278159\n",
      "Train Epoch: 29 [12800/60000 (21%)]\tLoss:0.337541\n",
      "Train Epoch: 29 [25600/60000 (43%)]\tLoss:0.212151\n",
      "Train Epoch: 29 [38400/60000 (64%)]\tLoss:0.235502\n",
      "Train Epoch: 29 [51200/60000 (85%)]\tLoss:0.378166\n"
     ]
    },
    {
     "name": "stdout",
     "output_type": "stream",
     "text": [
      "[29] Test Loss: 0.2995, Accuracy: 89.15%\n",
      "Train Epoch: 30 [0/60000 (0%)]\tLoss:0.297015\n",
      "Train Epoch: 30 [12800/60000 (21%)]\tLoss:0.271208\n",
      "Train Epoch: 30 [25600/60000 (43%)]\tLoss:0.421082\n",
      "Train Epoch: 30 [38400/60000 (64%)]\tLoss:0.507998\n",
      "Train Epoch: 30 [51200/60000 (85%)]\tLoss:0.388286\n",
      "[30] Test Loss: 0.2989, Accuracy: 89.04%\n",
      "Train Epoch: 31 [0/60000 (0%)]\tLoss:0.356925\n",
      "Train Epoch: 31 [12800/60000 (21%)]\tLoss:0.209424\n",
      "Train Epoch: 31 [25600/60000 (43%)]\tLoss:0.289228\n",
      "Train Epoch: 31 [38400/60000 (64%)]\tLoss:0.326308\n",
      "Train Epoch: 31 [51200/60000 (85%)]\tLoss:0.204099\n",
      "[31] Test Loss: 0.2994, Accuracy: 89.28%\n",
      "Train Epoch: 32 [0/60000 (0%)]\tLoss:0.349366\n",
      "Train Epoch: 32 [12800/60000 (21%)]\tLoss:0.276951\n",
      "Train Epoch: 32 [25600/60000 (43%)]\tLoss:0.292768\n",
      "Train Epoch: 32 [38400/60000 (64%)]\tLoss:0.322713\n",
      "Train Epoch: 32 [51200/60000 (85%)]\tLoss:0.259983\n",
      "[32] Test Loss: 0.2972, Accuracy: 89.17%\n",
      "Train Epoch: 33 [0/60000 (0%)]\tLoss:0.356298\n",
      "Train Epoch: 33 [12800/60000 (21%)]\tLoss:0.410554\n",
      "Train Epoch: 33 [25600/60000 (43%)]\tLoss:0.199985\n",
      "Train Epoch: 33 [38400/60000 (64%)]\tLoss:0.301141\n",
      "Train Epoch: 33 [51200/60000 (85%)]\tLoss:0.311557\n",
      "[33] Test Loss: 0.2993, Accuracy: 89.18%\n",
      "Train Epoch: 34 [0/60000 (0%)]\tLoss:0.269694\n",
      "Train Epoch: 34 [12800/60000 (21%)]\tLoss:0.275500\n",
      "Train Epoch: 34 [25600/60000 (43%)]\tLoss:0.350572\n",
      "Train Epoch: 34 [38400/60000 (64%)]\tLoss:0.290437\n",
      "Train Epoch: 34 [51200/60000 (85%)]\tLoss:0.230748\n",
      "[34] Test Loss: 0.2953, Accuracy: 89.07%\n",
      "Train Epoch: 35 [0/60000 (0%)]\tLoss:0.310382\n",
      "Train Epoch: 35 [12800/60000 (21%)]\tLoss:0.210395\n",
      "Train Epoch: 35 [25600/60000 (43%)]\tLoss:0.319846\n",
      "Train Epoch: 35 [38400/60000 (64%)]\tLoss:0.316873\n",
      "Train Epoch: 35 [51200/60000 (85%)]\tLoss:0.266893\n",
      "[35] Test Loss: 0.2948, Accuracy: 89.31%\n",
      "Train Epoch: 36 [0/60000 (0%)]\tLoss:0.330516\n",
      "Train Epoch: 36 [12800/60000 (21%)]\tLoss:0.381885\n",
      "Train Epoch: 36 [25600/60000 (43%)]\tLoss:0.181918\n",
      "Train Epoch: 36 [38400/60000 (64%)]\tLoss:0.181714\n",
      "Train Epoch: 36 [51200/60000 (85%)]\tLoss:0.350344\n",
      "[36] Test Loss: 0.2854, Accuracy: 89.71%\n",
      "Train Epoch: 37 [0/60000 (0%)]\tLoss:0.205433\n",
      "Train Epoch: 37 [12800/60000 (21%)]\tLoss:0.215562\n",
      "Train Epoch: 37 [25600/60000 (43%)]\tLoss:0.264358\n",
      "Train Epoch: 37 [38400/60000 (64%)]\tLoss:0.402177\n",
      "Train Epoch: 37 [51200/60000 (85%)]\tLoss:0.449355\n",
      "[37] Test Loss: 0.3049, Accuracy: 88.86%\n",
      "Train Epoch: 38 [0/60000 (0%)]\tLoss:0.210928\n",
      "Train Epoch: 38 [12800/60000 (21%)]\tLoss:0.208393\n",
      "Train Epoch: 38 [25600/60000 (43%)]\tLoss:0.456049\n",
      "Train Epoch: 38 [38400/60000 (64%)]\tLoss:0.189084\n",
      "Train Epoch: 38 [51200/60000 (85%)]\tLoss:0.221933\n",
      "[38] Test Loss: 0.2925, Accuracy: 89.57%\n",
      "Train Epoch: 39 [0/60000 (0%)]\tLoss:0.368720\n",
      "Train Epoch: 39 [12800/60000 (21%)]\tLoss:0.346622\n",
      "Train Epoch: 39 [25600/60000 (43%)]\tLoss:0.433540\n",
      "Train Epoch: 39 [38400/60000 (64%)]\tLoss:0.330176\n",
      "Train Epoch: 39 [51200/60000 (85%)]\tLoss:0.455978\n",
      "[39] Test Loss: 0.2824, Accuracy: 89.68%\n"
     ]
    }
   ],
   "source": [
    "for epoch in range(1, EPOCHS):\n",
    "    train(model, train_loader, optimizer, epoch)\n",
    "    test_loss, test_accuracy = evaluate(model, test_loader)\n",
    "    \n",
    "    print('[{}] Test Loss: {:.4f}, Accuracy: {:.2f}%'.format(\n",
    "            epoch, test_loss, test_accuracy))"
   ]
  },
  {
   "cell_type": "markdown",
   "metadata": {},
   "source": [
    "## ResNet"
   ]
  },
  {
   "cell_type": "code",
   "execution_count": 9,
   "metadata": {},
   "outputs": [],
   "source": [
    "# 컬러 데이터셋은 흑백 이미지보다 복잡하므로 학습을 더 많이 해야한다.\n",
    "EPOCHS = 300\n",
    "BATCH_SIZE = 218"
   ]
  },
  {
   "cell_type": "markdown",
   "metadata": {},
   "source": [
    "#### 데이터셋 불러오기"
   ]
  },
  {
   "cell_type": "code",
   "execution_count": 10,
   "metadata": {},
   "outputs": [
    {
     "name": "stdout",
     "output_type": "stream",
     "text": [
      "Files already downloaded and verified\n"
     ]
    }
   ],
   "source": [
    "train_loader = torch.utils.data.DataLoader(\n",
    "        datasets.CIFAR10('C:/Users/gun84/data',\n",
    "                        train = True,\n",
    "                        download = True,\n",
    "                        transform = transforms.Compose([\n",
    "                            transforms.RandomCrop(32, padding = 4), # 이미지를 랜덤으로 아무대나 잘라 32 크기로 출력, 과적합 방지\n",
    "                            transforms.RandomHorizontalFlip(),      # 과적합 방지\n",
    "                            transforms.ToTensor(),\n",
    "                            transforms.Normalize((0.5, 0.5, 0.5),\n",
    "                                                (0.5, 0.5, 0.5))\n",
    "                        ])),\n",
    "        batch_size = BATCH_SIZE, shuffle = True)\n",
    "test_loader = torch.utils.data.DataLoader(\n",
    "        datasets.CIFAR10('C:/Users/gun84/data',\n",
    "                        train = False,\n",
    "                        transform = transforms.Compose([\n",
    "                            transforms.ToTensor(),\n",
    "                            transforms.Normalize((0.5, 0.5, 0.5),\n",
    "                                                (0.5, 0.5, 0.5))\n",
    "                        ])),\n",
    "        batch_size = BATCH_SIZE, shuffle = True)"
   ]
  },
  {
   "cell_type": "markdown",
   "metadata": {},
   "source": [
    "#### Resdual 블록"
   ]
  },
  {
   "cell_type": "code",
   "execution_count": 11,
   "metadata": {},
   "outputs": [],
   "source": [
    "class BasicBlock(nn.Module):\n",
    "    def __init__(self, in_planes, planes, stride = 1):\n",
    "        super(BasicBlock, self).__init__()\n",
    "        self.conv1 = nn.Conv2d(in_planes, planes, kernel_size = 3,\n",
    "                              stride = stride, padding = 1, bias = False)\n",
    "        self.bn1 = nn.BatchNorm2d(planes)\n",
    "        self.conv2 = nn.Conv2d(planes, planes, kernel_size = 3,\n",
    "                              stride = 1, padding = 1, bias = False)\n",
    "        self.bn2 = nn.BatchNorm2d(planes)\n",
    "        self.shortcut = nn.Sequential()\n",
    "        if stride != 1 or in_planes != planes:\n",
    "            self.shortcut = nn.Sequential(\n",
    "                nn.Conv2d(in_planes, planes,\n",
    "                         kernel_size = 1, stride = stride, bias = False),\n",
    "                nn.BatchNorm2d(planes))\n",
    "    \n",
    "    def forward(self, x):\n",
    "        out = F.relu(self.bn1(self.conv1(x)))\n",
    "        out = self.bn2(self.conv2(out))\n",
    "        out += self.shortcut(x)\n",
    "        out = F.relu(out)\n",
    "        return out"
   ]
  },
  {
   "cell_type": "code",
   "execution_count": null,
   "metadata": {},
   "outputs": [],
   "source": []
  },
  {
   "cell_type": "code",
   "execution_count": 13,
   "metadata": {},
   "outputs": [],
   "source": [
    "class ResNet(nn.Module):\n",
    "    def __init__(self,num_classes = 10):\n",
    "        super(ResNet, self).__init__()\n",
    "        self.in_planes = 16\n",
    "        \n",
    "        self.conv1 = nn.Conv2d(3, 16, kernel_size = 3, stride = 1, padding = 1, bias = False)\n",
    "        self.bn1 = nn.BatchNorm2d(16)\n",
    "        self.layer1 = self._make_layer(16, 2, stride = 1)\n",
    "        self.layer2 = self._make_layer(32, 2, stride = 2)\n",
    "        self.layer3 = self._make_layer(64, 2, stride = 2)\n",
    "        self.linear = nn.Linear(64, num_classes)\n",
    "    \n",
    "    def _make_layer(self, planes, num_blocks, stride):\n",
    "        strides = [stride] + [1]*(num_blocks - 1) # layer1 일때 strides = [1. 1]\n",
    "        layers = []\n",
    "        for stride in strides: # layer1: [1, 1], layer2: [2, 1], layer3: [2, 1]\n",
    "            layers.append(BasicBlock(self.in_planes, planes, stride))\n",
    "            self.in_planes = planes\n",
    "        return nn.Sequential(*layers) # 편하게 순차적으로 실행하도록 담는 container 라고 생각\n",
    "    \n",
    "    def forward(self,x):\n",
    "        out = F.relu(self.bn1(self.conv1(x))) # out.shape : ([1,16,32,32])\n",
    "        out = self.layer1(out) # out.shape : ([1,16,32,32])\n",
    "        out = self.layer2(out) \n",
    "        out = self.layer3(out)\n",
    "        out = F.avg_pool2d(out, 8)\n",
    "#         print('out',out.shape)\n",
    "        out = out.view(out.size(0), -1)\n",
    "        out = self.linear(out)\n",
    "        return out\n",
    "# img = torch.randn([128,3,32,32])\n",
    "# a = ResNet()\n",
    "# a(img)\n"
   ]
  },
  {
   "cell_type": "code",
   "execution_count": 14,
   "metadata": {},
   "outputs": [],
   "source": [
    "model = ResNet().to(DEVICE)\n",
    "optimizer = optim.SGD(model.parameters(), lr = 0.1,\n",
    "                     momentum = 0.9, weight_decay = 0.0005)\n",
    "scheduler = optim.lr_scheduler.StepLR(optimizer, step_size = 50, gamma = 0.1)"
   ]
  },
  {
   "cell_type": "code",
   "execution_count": 15,
   "metadata": {},
   "outputs": [
    {
     "name": "stdout",
     "output_type": "stream",
     "text": [
      "ResNet(\n",
      "  (conv1): Conv2d(3, 16, kernel_size=(3, 3), stride=(1, 1), padding=(1, 1), bias=False)\n",
      "  (bn1): BatchNorm2d(16, eps=1e-05, momentum=0.1, affine=True, track_running_stats=True)\n",
      "  (layer1): Sequential(\n",
      "    (0): BasicBlock(\n",
      "      (conv1): Conv2d(16, 16, kernel_size=(3, 3), stride=(1, 1), padding=(1, 1), bias=False)\n",
      "      (bn1): BatchNorm2d(16, eps=1e-05, momentum=0.1, affine=True, track_running_stats=True)\n",
      "      (conv2): Conv2d(16, 16, kernel_size=(3, 3), stride=(1, 1), padding=(1, 1), bias=False)\n",
      "      (bn2): BatchNorm2d(16, eps=1e-05, momentum=0.1, affine=True, track_running_stats=True)\n",
      "      (shortcut): Sequential()\n",
      "    )\n",
      "    (1): BasicBlock(\n",
      "      (conv1): Conv2d(16, 16, kernel_size=(3, 3), stride=(1, 1), padding=(1, 1), bias=False)\n",
      "      (bn1): BatchNorm2d(16, eps=1e-05, momentum=0.1, affine=True, track_running_stats=True)\n",
      "      (conv2): Conv2d(16, 16, kernel_size=(3, 3), stride=(1, 1), padding=(1, 1), bias=False)\n",
      "      (bn2): BatchNorm2d(16, eps=1e-05, momentum=0.1, affine=True, track_running_stats=True)\n",
      "      (shortcut): Sequential()\n",
      "    )\n",
      "  )\n",
      "  (layer2): Sequential(\n",
      "    (0): BasicBlock(\n",
      "      (conv1): Conv2d(16, 32, kernel_size=(3, 3), stride=(2, 2), padding=(1, 1), bias=False)\n",
      "      (bn1): BatchNorm2d(32, eps=1e-05, momentum=0.1, affine=True, track_running_stats=True)\n",
      "      (conv2): Conv2d(32, 32, kernel_size=(3, 3), stride=(1, 1), padding=(1, 1), bias=False)\n",
      "      (bn2): BatchNorm2d(32, eps=1e-05, momentum=0.1, affine=True, track_running_stats=True)\n",
      "      (shortcut): Sequential(\n",
      "        (0): Conv2d(16, 32, kernel_size=(1, 1), stride=(2, 2), bias=False)\n",
      "        (1): BatchNorm2d(32, eps=1e-05, momentum=0.1, affine=True, track_running_stats=True)\n",
      "      )\n",
      "    )\n",
      "    (1): BasicBlock(\n",
      "      (conv1): Conv2d(32, 32, kernel_size=(3, 3), stride=(1, 1), padding=(1, 1), bias=False)\n",
      "      (bn1): BatchNorm2d(32, eps=1e-05, momentum=0.1, affine=True, track_running_stats=True)\n",
      "      (conv2): Conv2d(32, 32, kernel_size=(3, 3), stride=(1, 1), padding=(1, 1), bias=False)\n",
      "      (bn2): BatchNorm2d(32, eps=1e-05, momentum=0.1, affine=True, track_running_stats=True)\n",
      "      (shortcut): Sequential()\n",
      "    )\n",
      "  )\n",
      "  (layer3): Sequential(\n",
      "    (0): BasicBlock(\n",
      "      (conv1): Conv2d(32, 64, kernel_size=(3, 3), stride=(2, 2), padding=(1, 1), bias=False)\n",
      "      (bn1): BatchNorm2d(64, eps=1e-05, momentum=0.1, affine=True, track_running_stats=True)\n",
      "      (conv2): Conv2d(64, 64, kernel_size=(3, 3), stride=(1, 1), padding=(1, 1), bias=False)\n",
      "      (bn2): BatchNorm2d(64, eps=1e-05, momentum=0.1, affine=True, track_running_stats=True)\n",
      "      (shortcut): Sequential(\n",
      "        (0): Conv2d(32, 64, kernel_size=(1, 1), stride=(2, 2), bias=False)\n",
      "        (1): BatchNorm2d(64, eps=1e-05, momentum=0.1, affine=True, track_running_stats=True)\n",
      "      )\n",
      "    )\n",
      "    (1): BasicBlock(\n",
      "      (conv1): Conv2d(64, 64, kernel_size=(3, 3), stride=(1, 1), padding=(1, 1), bias=False)\n",
      "      (bn1): BatchNorm2d(64, eps=1e-05, momentum=0.1, affine=True, track_running_stats=True)\n",
      "      (conv2): Conv2d(64, 64, kernel_size=(3, 3), stride=(1, 1), padding=(1, 1), bias=False)\n",
      "      (bn2): BatchNorm2d(64, eps=1e-05, momentum=0.1, affine=True, track_running_stats=True)\n",
      "      (shortcut): Sequential()\n",
      "    )\n",
      "  )\n",
      "  (linear): Linear(in_features=64, out_features=10, bias=True)\n",
      ")\n"
     ]
    }
   ],
   "source": [
    "print(model)"
   ]
  },
  {
   "cell_type": "code",
   "execution_count": 16,
   "metadata": {},
   "outputs": [
    {
     "name": "stderr",
     "output_type": "stream",
     "text": [
      "C:\\Users\\gun84\\Anaconda3\\envs\\pytorch\\lib\\site-packages\\torch\\optim\\lr_scheduler.py:136: UserWarning: Detected call of `lr_scheduler.step()` before `optimizer.step()`. In PyTorch 1.1.0 and later, you should call them in the opposite order: `optimizer.step()` before `lr_scheduler.step()`.  Failure to do this will result in PyTorch skipping the first value of the learning rate schedule. See more details at https://pytorch.org/docs/stable/optim.html#how-to-adjust-learning-rate\n",
      "  \"https://pytorch.org/docs/stable/optim.html#how-to-adjust-learning-rate\", UserWarning)\n"
     ]
    },
    {
     "name": "stdout",
     "output_type": "stream",
     "text": [
      "Train Epoch: 1 [0/50000 (0%)]\tLoss:2.366076\n",
      "Train Epoch: 1 [43600/50000 (87%)]\tLoss:1.379607\n"
     ]
    },
    {
     "ename": "NameError",
     "evalue": "name 'test' is not defined",
     "output_type": "error",
     "traceback": [
      "\u001b[1;31m---------------------------------------------------------------------------\u001b[0m",
      "\u001b[1;31mNameError\u001b[0m                                 Traceback (most recent call last)",
      "\u001b[1;32m<ipython-input-16-aa234ccdc1e3>\u001b[0m in \u001b[0;36m<module>\u001b[1;34m\u001b[0m\n\u001b[0;32m      2\u001b[0m     \u001b[0mscheduler\u001b[0m\u001b[1;33m.\u001b[0m\u001b[0mstep\u001b[0m\u001b[1;33m(\u001b[0m\u001b[1;33m)\u001b[0m\u001b[1;33m\u001b[0m\u001b[1;33m\u001b[0m\u001b[0m\n\u001b[0;32m      3\u001b[0m     \u001b[0mtrain\u001b[0m\u001b[1;33m(\u001b[0m\u001b[0mmodel\u001b[0m\u001b[1;33m,\u001b[0m \u001b[0mtrain_loader\u001b[0m\u001b[1;33m,\u001b[0m \u001b[0moptimizer\u001b[0m\u001b[1;33m,\u001b[0m \u001b[0mepoch\u001b[0m\u001b[1;33m)\u001b[0m\u001b[1;33m\u001b[0m\u001b[1;33m\u001b[0m\u001b[0m\n\u001b[1;32m----> 4\u001b[1;33m     \u001b[0mtest_loss\u001b[0m\u001b[1;33m,\u001b[0m \u001b[0mtest_accuracy\u001b[0m \u001b[1;33m=\u001b[0m \u001b[0mtest\u001b[0m\u001b[1;33m(\u001b[0m\u001b[0mmodel\u001b[0m\u001b[1;33m,\u001b[0m \u001b[0mtest_loader\u001b[0m\u001b[1;33m)\u001b[0m\u001b[1;33m\u001b[0m\u001b[1;33m\u001b[0m\u001b[0m\n\u001b[0m\u001b[0;32m      5\u001b[0m \u001b[1;33m\u001b[0m\u001b[0m\n\u001b[0;32m      6\u001b[0m     \u001b[0mprint\u001b[0m\u001b[1;33m(\u001b[0m\u001b[1;34m'[{}] Test Loss: {:.4f}, Accuracy: {:.2f}%'\u001b[0m\u001b[1;33m.\u001b[0m\u001b[0mformat\u001b[0m\u001b[1;33m(\u001b[0m\u001b[0mepoch\u001b[0m\u001b[1;33m,\u001b[0m \u001b[0mtest_loss\u001b[0m\u001b[1;33m,\u001b[0m \u001b[0mtest_accuracy\u001b[0m\u001b[1;33m)\u001b[0m\u001b[1;33m)\u001b[0m\u001b[1;33m\u001b[0m\u001b[1;33m\u001b[0m\u001b[0m\n",
      "\u001b[1;31mNameError\u001b[0m: name 'test' is not defined"
     ]
    }
   ],
   "source": [
    "for epoch in range(1, EPOCHS +1):\n",
    "    scheduler.step()\n",
    "    train(model, train_loader, optimizer, epoch)\n",
    "    test_loss, test_accuracy = test(model, test_loader)\n",
    "    \n",
    "    print('[{}] Test Loss: {:.4f}, Accuracy: {:.2f}%'.format(epoch, test_loss, test_accuracy))"
   ]
  },
  {
   "cell_type": "code",
   "execution_count": null,
   "metadata": {},
   "outputs": [],
   "source": []
  },
  {
   "cell_type": "code",
   "execution_count": null,
   "metadata": {},
   "outputs": [],
   "source": []
  }
 ],
 "metadata": {
  "kernelspec": {
   "display_name": "pytorch",
   "language": "python",
   "name": "pytorch"
  },
  "language_info": {
   "codemirror_mode": {
    "name": "ipython",
    "version": 3
   },
   "file_extension": ".py",
   "mimetype": "text/x-python",
   "name": "python",
   "nbconvert_exporter": "python",
   "pygments_lexer": "ipython3",
   "version": "3.7.9"
  }
 },
 "nbformat": 4,
 "nbformat_minor": 4
}
